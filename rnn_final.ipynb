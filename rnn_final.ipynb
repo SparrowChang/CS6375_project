{
  "cells": [
    {
      "cell_type": "code",
      "execution_count": 1,
      "metadata": {
        "colab": {
          "base_uri": "https://localhost:8080/"
        },
        "id": "jUX4Pzj4AS3T",
        "outputId": "66ce6ae8-586c-4cda-84ba-61c92b65739a"
      },
      "outputs": [
        {
          "output_type": "stream",
          "name": "stderr",
          "text": [
            "[nltk_data] Downloading package stopwords to /root/nltk_data...\n",
            "[nltk_data]   Unzipping corpora/stopwords.zip.\n"
          ]
        }
      ],
      "source": [
        "# +\n",
        "import datetime\n",
        "import numpy as np\n",
        "import pandas as pd\n",
        "import random\n",
        "import seaborn as sns\n",
        "from numpy.random import randn\n",
        "import matplotlib.pyplot as plt\n",
        "import plotly.express as px\n",
        "from sklearn.metrics import confusion_matrix, classification_report\n",
        "import itertools\n",
        "\n",
        "# nlp\n",
        "\n",
        "import nltk\n",
        "nltk.download('stopwords')\n",
        "from nltk.corpus import stopwords\n",
        "#from tensorflow.keras.preprocessing.text import Tokenizer #Add the keras tokenizer for tweet tokenization\n",
        "#from tensorflow.keras.preprocessing.sequence import pad_sequences #Add padding to help the Keras Sequencing\n"
      ]
    },
    {
      "cell_type": "code",
      "execution_count": 2,
      "metadata": {
        "id": "CGlPdT2TAqrc"
      },
      "outputs": [],
      "source": [
        "# +\n",
        "def read_csv_and_add_length_column(url):\n",
        "    df = pd.read_csv(url)\n",
        "    df['Length_1'] = df['Review'].apply(len)\n",
        "    return df"
      ]
    },
    {
      "cell_type": "code",
      "execution_count": 3,
      "metadata": {
        "id": "NcY4fYvQAtR1"
      },
      "outputs": [],
      "source": [
        "def reviewParse(review, max_words=200):\n",
        "    stop_words = set(stopwords.words('english'))\n",
        "    punctuations = \"\"\"!()-![]{};:,+'\"\\,<>./?@#$%^&*_~\"\"\"\n",
        "    words = review.split()\n",
        "    parsedReview = \"\".join([word.translate(str.maketrans('', '', punctuations)) + \" \" for word in words if word.lower() not in stop_words])\n",
        "    if len(parsedReview) <= max_words:\n",
        "        return parsedReview\n",
        "    else:\n",
        "        shortened_review = \"\".join(parsedReview[:max_words])\n",
        "        return shortened_review"
      ]
    },
    {
      "cell_type": "code",
      "execution_count": 4,
      "metadata": {
        "id": "UaMgwiTmAu9x"
      },
      "outputs": [],
      "source": [
        "# Encode labels\n",
        "def encode_label(label):\n",
        "    if label == 5 or label == 4:\n",
        "        return 2\n",
        "    if label == 3:\n",
        "        return 1\n",
        "    return 0"
      ]
    },
    {
      "cell_type": "code",
      "execution_count": 5,
      "metadata": {
        "id": "Hq8OaiuIAwfR"
      },
      "outputs": [],
      "source": [
        "def preprocess_data(df):\n",
        "    df[\"parsedReview\"] = df[\"Review\"].apply(reviewParse)\n",
        "    df[\"SimpleRating\"] = df[\"Rating\"].apply(encode_label)\n",
        "    df['Length_2'] = df['parsedReview'].apply(len)\n",
        "    selected_columns = ['parsedReview', 'SimpleRating']\n",
        "    return df[selected_columns]"
      ]
    },
    {
      "cell_type": "code",
      "execution_count": 6,
      "metadata": {
        "id": "F3jtmQirAxt0"
      },
      "outputs": [],
      "source": [
        "def splitdata(trainsize):\n",
        "    if trainsize != 0.8:\n",
        "        train_data_df = df.head(int(len(df)*trainsize))\n",
        "        test_data_df = df.tail(int(len(df)*trainsize*0.25))\n",
        "        print('Length of train_data and test data: %i, %i' % (len(train_data_df), len(test_data_df)))\n",
        "    else:\n",
        "        train_data_df = df.head(int(len(df)*trainsize))\n",
        "        test_data_df = df.drop(train_data_df.index)\n",
        "        print('Length of train_data and test data: %i, %i' % (len(train_data_df), len(test_data_df)))\n",
        "    return train_data_df, test_data_df\n",
        "\n",
        "def dftodict(df):\n",
        "    data_dict = df.to_dict(orient='records')\n",
        "    # Creating the final dictionary\n",
        "    data = {row['parsedReview']: row['SimpleRating'] for row in data_dict}\n",
        "    return data"
      ]
    },
    {
      "cell_type": "code",
      "execution_count": 7,
      "metadata": {
        "id": "8qWM6OX-Jjwg"
      },
      "outputs": [],
      "source": [
        "class my_functions():\n",
        "    def mse_loss(y_true, y_pred):\n",
        "        return ((y_true - y_pred)**2).mean()\n",
        "    def sigmoid(x):\n",
        "        return 1 / ( 1+ np.exp(-x))\n",
        "    def gradient_descent(X, y, lr, epoch):\n",
        "        m = len(X)\n",
        "        n = X.shape[1]\n",
        "        theta = np.zeros(n)\n",
        "        theta_his = []\n",
        "        cost_his = []\n",
        "        for iteration in range(epoch):\n",
        "            theta -= (lr/m) * (np.dot(X.T, (np.dot(X, theta) - y)))\n",
        "            cost = np.sum((np.dot(X, theta) - y)**2/ (2 * m))\n",
        "            theta\n",
        "            cost_his.append(cost)\n",
        "        return theta, cost_his\n",
        "    def tanh(x):\n",
        "        return (np.exp(x) - np.exp(-x))/ (np.exp(x)+np.exp(-x))\n",
        "\n",
        "    def deriv_tanh(dx):\n",
        "        yhat = my_functions.tanh(dx)\n",
        "        return 1- yhat**2\n",
        "\n",
        "    def deriv_relu(dx):\n",
        "        return (dx>0).astype(float)\n",
        "\n",
        "    def relu(x):\n",
        "        return np.maximum(0,x)\n",
        "\n",
        "    def deriv_sigmoid(dx):\n",
        "        yhat = my_functions.sigmoid(dx)\n",
        "        return yhat * (1 - yhat)\n",
        "    def architecture(X, y):# gives architecture of node numbers in input, output layer.\n",
        "        return (X.shape[0], y.shape[0]) # unused"
      ]
    },
    {
      "cell_type": "code",
      "execution_count": 8,
      "metadata": {
        "id": "dSO7r329BWN7"
      },
      "outputs": [],
      "source": [
        "# rnn\n",
        "class RNN:\n",
        "    def __init__(self, input_size,output_size, hidden_size):\n",
        "        self.U = np.ones((hidden_size, hidden_size))\n",
        "        self.W = np.ones((hidden_size, input_size))\n",
        "        self.V = np.ones((output_size, hidden_size))\n",
        "\n",
        "        self.b_hidden = np.zeros((hidden_size, 1))\n",
        "        self.b_out = np.zeros((output_size, 1))\n",
        "    def forward(self, input):\n",
        "        self.h = np.zeros((self.U.shape[0], 1))\n",
        "        hidden_out = {0:self.h} # each word's prediction\n",
        "        self.temp_out = input\n",
        "        y, h, hidden_out = gate_feed.feed_forward(self.h,hidden_out, input, self.U,self.W,self.V, self.b_hidden, self.b_out)\n",
        "        self.hidden_out = hidden_out\n",
        "        return y, h\n",
        "    def backward(self,input, lr):\n",
        "        deriv_V = gate_feed.backward(self.hidden_out[len(self.temp_out)], input)\n",
        "\n",
        "        deriv_b_out = input\n",
        "        #deriv_h = gate_feed.backward(self.V, input)\n",
        "        deriv_h = self.V.T @ input\n",
        "        deriv_W, deriv_U,  deriv_b_hidden = gate_feed.feed_backward(self.temp_out, self.hidden_out,  deriv_h, self.U, self.W, self.b_hidden)\n",
        "        self.U = self.U - lr*deriv_U\n",
        "        self.W = self.W - lr*deriv_W\n",
        "        self.V = self.V - lr*deriv_V\n",
        "        self.b_out = self.b_out - lr*deriv_b_out\n",
        "        self.b_hidden = self.b_hidden - lr*deriv_b_hidden"
      ]
    },
    {
      "cell_type": "code",
      "execution_count": 9,
      "metadata": {
        "id": "EVJ-4fUnfFzf"
      },
      "outputs": [],
      "source": [
        "class gate_feed():\n",
        "    def forward(x, y):\n",
        "        return np.dot(x, y)\n",
        "\n",
        "    def backward(x, y):\n",
        "        return np.dot(y, x.T)\n",
        "\n",
        "    def feed_forward(h, hidden_out, input, U, W, V, b_hidden, b_out):\n",
        "        for i, j in enumerate(input):\n",
        "            aw = gate_feed.forward(W, j)\n",
        "            au = gate_feed.forward(U, h)\n",
        "            # gate activate all weight and para to next game\n",
        "            h = my_functions.tanh(aw + au + b_hidden) # apply act function\n",
        "            hidden_out[i + 1] = h # store new output\n",
        "        y = gate_feed.forward(V, h) + b_out\n",
        "        return y, h, hidden_out\n",
        "\n",
        "    def feed_backward(hidden_in, hidden_out, deriv_h, U, W, b_hidden):\n",
        "        deriv_u = np.zeros(U.shape)\n",
        "        deriv_w = np.zeros(W.shape)\n",
        "        deriv_b_hidden = np.zeros(b_hidden.shape)\n",
        "        for i in reversed(range(len(hidden_in))):\n",
        "            hidden_neu = ((1-hidden_out[i+1]**2) * deriv_h)\n",
        "            deriv_b_hidden = deriv_b_hidden+ hidden_neu\n",
        "            deriv_u = deriv_u+ gate_feed.backward(hidden_out[i], hidden_neu)\n",
        "            deriv_w =  deriv_w + gate_feed.backward(hidden_in[i], hidden_neu)\n",
        "            deriv_h = gate_feed.backward(hidden_neu.T, U)\n",
        "        return deriv_w, deriv_u, deriv_b_hidden"
      ]
    },
    {
      "cell_type": "code",
      "execution_count": 10,
      "metadata": {
        "colab": {
          "base_uri": "https://localhost:8080/",
          "height": 1000
        },
        "id": "jHOQEDQEAWrP",
        "outputId": "4a00389d-3e09-4136-90da-1df0abf69fa7"
      },
      "outputs": [
        {
          "output_type": "stream",
          "name": "stdout",
          "text": [
            "2    15093\n",
            "0     3214\n",
            "1     2184\n",
            "Name: SimpleRating, dtype: int64\n",
            "                                            parsedReview  SimpleRating\n",
            "0      nice hotel expensive parking got good deal sta...             2\n",
            "1      ok nothing special charge diamond member hilto...             0\n",
            "2      nice rooms 4 experience hotel monaco seattle g...             1\n",
            "3      unique great stay wonderful time hotel monaco ...             2\n",
            "4      great stay great stay went seahawk game awesom...             2\n",
            "...                                                  ...           ...\n",
            "20486  best kept secret 3rd time staying charm 5star ...             2\n",
            "20487  great location price view hotel great quick pl...             2\n",
            "20488  ok looks nice modern outside desk staff nt par...             0\n",
            "20489  hotel theft ruined vacation hotel opened sept ...             0\n",
            "20490  people talking ca nt believe excellent ratings...             0\n",
            "\n",
            "[20491 rows x 2 columns]\n",
            "---------------\n",
            "Length of train_data and test data: 204, 51\n",
            "1874 unique words found\n",
            "--- Epoch 2 Current time: 2023-07-31 04:43\n",
            "Train:\tLoss 0.964 | Accuracy: 0.598\n",
            "Test:\tLoss 0.799 | Accuracy: 0.706\n",
            "Confusion Matrix of train data:\n",
            "[[  0   0  47]\n",
            " [  0   0  35]\n",
            " [  0   0 122]]\n"
          ]
        },
        {
          "output_type": "display_data",
          "data": {
            "text/plain": [
              "<Figure size 800x600 with 2 Axes>"
            ],
            "image/png": "[encoded data removed]"
          },
          "metadata": {}
        },
        {
          "output_type": "stream",
          "name": "stdout",
          "text": [
            "Confusion Matrix of test data:\n",
            "[[ 0  0 13]\n",
            " [ 0  0  2]\n",
            " [ 0  0 36]]\n"
          ]
        },
        {
          "output_type": "display_data",
          "data": {
            "text/plain": [
              "<Figure size 800x600 with 2 Axes>"
            ],
            "image/png": "[encoded data removed]"
          },
          "metadata": {}
        },
        {
          "output_type": "stream",
          "name": "stdout",
          "text": [
            "\n",
            "Classification Report_test:\n",
            "              precision    recall  f1-score   support\n",
            "\n",
            "    Negative       0.00      0.00      0.00        13\n",
            "     Neutral       0.00      0.00      0.00         2\n",
            "    Positive       0.71      1.00      0.83        36\n",
            "\n",
            "    accuracy                           0.71        51\n",
            "   macro avg       0.24      0.33      0.28        51\n",
            "weighted avg       0.50      0.71      0.58        51\n",
            "\n"
          ]
        },
        {
          "output_type": "stream",
          "name": "stderr",
          "text": [
            "/usr/local/lib/python3.10/dist-packages/sklearn/metrics/_classification.py:1344: UndefinedMetricWarning: Precision and F-score are ill-defined and being set to 0.0 in labels with no predicted samples. Use `zero_division` parameter to control this behavior.\n",
            "  _warn_prf(average, modifier, msg_start, len(result))\n",
            "/usr/local/lib/python3.10/dist-packages/sklearn/metrics/_classification.py:1344: UndefinedMetricWarning: Precision and F-score are ill-defined and being set to 0.0 in labels with no predicted samples. Use `zero_division` parameter to control this behavior.\n",
            "  _warn_prf(average, modifier, msg_start, len(result))\n",
            "/usr/local/lib/python3.10/dist-packages/sklearn/metrics/_classification.py:1344: UndefinedMetricWarning: Precision and F-score are ill-defined and being set to 0.0 in labels with no predicted samples. Use `zero_division` parameter to control this behavior.\n",
            "  _warn_prf(average, modifier, msg_start, len(result))\n"
          ]
        }
      ],
      "source": [
        "def createInputs(text, word_to_idx):\n",
        "    inputs = []\n",
        "    for w in text.split(' '):\n",
        "        # Get the index of the word from the word_to_idx dictionary or use a default value of -1 if the word is not found\n",
        "        idx = word_to_idx.get(w, -1)\n",
        "        if idx != -1:\n",
        "            v = np.zeros((len(word_to_idx), 1))\n",
        "            v[idx] = 1\n",
        "            inputs.append(v)\n",
        "        else:\n",
        "            # Handle the case where the word is not found in the dictionary\n",
        "            # Use the same dimension for 'v' as in the 'if' part to ensure the same shape of the vector\n",
        "            v = np.zeros((len(word_to_idx), 1))\n",
        "            inputs.append(v)\n",
        "    return inputs\n",
        "\n",
        "def softmax(x):\n",
        "    exp_x = np.exp(x - np.max(x)) # # Subtracting the maximum value to avoid overflow\n",
        "    return exp_x / np.sum(exp_x)\n",
        "\n",
        "def processData(data, rnn, word_to_idx, backward=True):\n",
        "    items = list(data.items())\n",
        "    random.shuffle(items)\n",
        "\n",
        "    loss = 0\n",
        "    num_correct = 0\n",
        "    lr = 0.001\n",
        "    predicted_labels = []\n",
        "    true_labels = []\n",
        "\n",
        "    for x, y in items:\n",
        "        inputs = createInputs(x, word_to_idx)\n",
        "        target = int(y)\n",
        "\n",
        "        out, _ = rnn.forward(inputs)\n",
        "        probs = softmax(out)\n",
        "\n",
        "        loss -= np.log(probs[target])\n",
        "        num_correct += int(np.argmax(probs) == target)\n",
        "\n",
        "        predicted_labels.append(int(np.argmax(probs)))\n",
        "        true_labels.append(target)\n",
        "\n",
        "        if backward:\n",
        "            d_L_d_y = probs\n",
        "            d_L_d_y[target] -= 1\n",
        "            rnn.backward(d_L_d_y, lr)\n",
        "\n",
        "    return loss / len(data), num_correct / len(data), predicted_labels, true_labels\n",
        "\n",
        "def main():\n",
        "    # Create the vocabulary.\n",
        "    train_vocab = list(set([w for text in train_data.keys() for w in text.split(' ')]))\n",
        "    vocab_size = len(train_vocab)\n",
        "    print('%d unique words found' % vocab_size)\n",
        "\n",
        "    word_to_idx = {w: i for i, w in enumerate(train_vocab)}\n",
        "    # idx_to_word = {i: w for i, w in enumerate(train_vocab)}\n",
        "\n",
        "    # Initialize our RNN!\n",
        "    rnn = RNN(vocab_size, 3, 64)\n",
        "\n",
        "    # Training loop\n",
        "    epochs = 2\n",
        "    for epoch in range(1, epochs+1):\n",
        "        train_loss, train_acc, train_predicted_labels, train_true_labels = processData(train_data, rnn, word_to_idx)\n",
        "        # if epoch % 1 == 0:\n",
        "        if epoch == epochs:\n",
        "            current_time = datetime.datetime.now()\n",
        "            current_time_str = current_time.strftime(\"%Y-%m-%d %H:%M\")\n",
        "            print('--- Epoch %d' % epoch, \"Current time:\", current_time_str)\n",
        "            print('Train:\\tLoss %.3f | Accuracy: %.3f' % (train_loss, train_acc))\n",
        "\n",
        "            test_loss, test_acc, test_predicted_labels, test_true_labels = processData(test_data, rnn, word_to_idx, backward = False) # backprop=False\n",
        "            print('Test:\\tLoss %.3f | Accuracy: %.3f' % (test_loss, test_acc))\n",
        "\n",
        "            # show the result\n",
        "            target_names = [\"Negative\", \"Neutral\", \"Positive\"]  # Replace with your class names\n",
        "            # Create a confusion matrix_train\n",
        "            cm_train = confusion_matrix(train_true_labels, train_predicted_labels)\n",
        "            print(\"Confusion Matrix of train data:\")\n",
        "            print(cm_train)\n",
        "\n",
        "            # Draw the confusion matrix as a heatmap\n",
        "            plt.figure(figsize=(8, 6))\n",
        "            sns.heatmap(cm_train, annot=True, fmt=\"d\", xticklabels=target_names, yticklabels=target_names)\n",
        "            plt.xlabel(\"Train Predicted Label\")\n",
        "            plt.ylabel(\"Train True Label\")\n",
        "            plt.title(\"Confusion Matrix_train\")\n",
        "            plt.show()\n",
        "\n",
        "            # Create a confusion matrix_test\n",
        "            cm_test = confusion_matrix(test_true_labels, test_predicted_labels)\n",
        "            print(\"Confusion Matrix of test data:\")\n",
        "            print(cm_test)\n",
        "\n",
        "            # Draw the confusion matrix as a heatmap\n",
        "            plt.figure(figsize=(8, 6))\n",
        "            sns.heatmap(cm_test, annot=True, fmt=\"d\", cmap=\"Blues\", xticklabels=target_names, yticklabels=target_names)\n",
        "            plt.xlabel(\"Test Predicted Label\")\n",
        "            plt.ylabel(\"Test True Label\")\n",
        "            plt.title(\"Confusion Matrix_test\")\n",
        "            plt.show()\n",
        "\n",
        "            # Create a classification report\n",
        "            report_test = classification_report(test_true_labels, test_predicted_labels, target_names=target_names)\n",
        "            print(\"\\nClassification Report_test:\")\n",
        "            print(report_test)\n",
        "# +\n",
        "# load data\n",
        "url = 'https://raw.githubusercontent.com/SparrowChang/CS6375_project/main/tripadvisor_hotel_reviews.csv'\n",
        "df = read_csv_and_add_length_column(url)\n",
        "\n",
        "#preprocessing\n",
        "df = preprocess_data(df)\n",
        "rating_counts = df['SimpleRating'].value_counts()\n",
        "print(rating_counts)\n",
        "print(df)\n",
        "print('---------------')\n",
        "\n",
        "# train\n",
        "trainsize = 0.01\n",
        "train_data_df, test_data_df = splitdata(trainsize)\n",
        "train_data = dftodict(train_data_df)\n",
        "test_data = dftodict(test_data_df)\n",
        "# -\n",
        "\n",
        "if __name__ == \"__main__\":\n",
        "    main()"
      ]
    }
  ],
  "metadata": {
    "accelerator": "GPU",
    "colab": {
      "provenance": []
    },
    "kernelspec": {
      "display_name": "Python 3 (ipykernel)",
      "language": "python",
      "name": "python3"
    },
    "language_info": {
      "codemirror_mode": {
        "name": "ipython",
        "version": 3
      },
      "file_extension": ".py",
      "mimetype": "text/x-python",
      "name": "python",
      "nbconvert_exporter": "python",
      "pygments_lexer": "ipython3",
      "version": "3.7.4"
    }
  },
  "nbformat": 4,
  "nbformat_minor": 0
}